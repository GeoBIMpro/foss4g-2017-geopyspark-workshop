{
 "cells": [
  {
   "cell_type": "markdown",
   "metadata": {},
   "source": [
    "## Analyzing NDWI through Time with Landsat 8\n",
    "\n",
    "In this section, we'll be taking a look at how the \n",
    "Normalized Difference Water Index (NDWI) changes throughout 2016\n",
    "for California."
   ]
  },
  {
   "cell_type": "code",
   "execution_count": null,
   "metadata": {
    "collapsed": true
   },
   "outputs": [],
   "source": [
    "import geopyspark as gps\n",
    "from pyspark import SparkContext\n",
    "import numpy as np\n",
    "from datetime import datetime\n",
    "from shapely.geometry import mapping, shape\n",
    "import pyproj\n",
    "from shapely.ops import transform\n",
    "from functools import partial\n",
    "import urllib.request, json\n",
    "from geonotebook.wrappers import TMSRasterData, GeoJsonData\n",
    "from PIL import Image\n",
    "import pandas as pd\n",
    "import matplotlib.pyplot as plt"
   ]
  },
  {
   "cell_type": "markdown",
   "metadata": {},
   "source": [
    "### Setup: State data and Spark initialization\n",
    "\n",
    "The next 2 cells grab the shapes for our state and start up the spark context."
   ]
  },
  {
   "cell_type": "code",
   "execution_count": null,
   "metadata": {
    "collapsed": true
   },
   "outputs": [],
   "source": [
    "# Grab data for New Mexico\n",
    "state_name, county_name = \"NM\", \"Colfax\"\n",
    "def get_state_shapes(state, county):\n",
    "    project = partial(\n",
    "        pyproj.transform,\n",
    "        pyproj.Proj(init='epsg:4326'),\n",
    "        pyproj.Proj(init='epsg:3857'))\n",
    "\n",
    "    state_url = \"https://raw.githubusercontent.com/johan/world.geo.json/master/countries/USA/{}.geo.json\".format(state)\n",
    "    county_url = \"https://raw.githubusercontent.com/johan/world.geo.json/master/countries/USA/{}/{}.geo.json\".format(state,county)\n",
    "    read_json = lambda url: json.loads(urllib.request.urlopen(url).read().decode(\"utf-8\"))\n",
    "    state_ll = shape(read_json(state_url)['features'][0]['geometry'])\n",
    "    state_wm = transform(project, state_ll)\n",
    "    county_ll = shape(read_json(county_url)['features'][0]['geometry'])\n",
    "    county_wm = transform(project, county_ll)\n",
    "    return (state_ll, state_wm, county_ll, county_wm)\n",
    "\n",
    "(state_ll, state_wm, county_ll, county_wm) = get_state_shapes(state_name, county_name) "
   ]
  },
  {
   "cell_type": "code",
   "execution_count": null,
   "metadata": {
    "collapsed": true
   },
   "outputs": [],
   "source": [
    "# Set up our spark context\n",
    "conf = gps.geopyspark_conf(appName=\"Exercise 1\") \\\n",
    "          .setMaster(\"local[*]\") \\\n",
    "          .set(key='spark.ui.enabled', value='true') \\\n",
    "          .set(key=\"spark.driver.memory\", value=\"8G\") \\\n",
    "          .set(\"spark.hadoop.yarn.timeline-service.enabled\", False)\n",
    "sc = SparkContext(conf=conf)"
   ]
  },
  {
   "cell_type": "markdown",
   "metadata": {},
   "source": [
    "### Setup: Band names and color ramp\n",
    "\n",
    "The ingested layers have the RGB, near infrared, and QA bands of landsat 8 data.\n",
    "This dict maps the band names to band index, for more readable code.\n",
    "\n",
    "We also define a color ramp for viewing NDWI data."
   ]
  },
  {
   "cell_type": "code",
   "execution_count": null,
   "metadata": {
    "collapsed": true
   },
   "outputs": [],
   "source": [
    "bands = { \"Blue\": 0,\n",
    "          \"Green\": 1,\n",
    "          \"Red\": 2,\n",
    "          \"NIR\": 3,\n",
    "          \"QA\": 4 }\n",
    "\n",
    "ndwi_color_map = \\\n",
    "     gps.ColorMap.build(breaks= {-0.1 : 0xaacdffaa,                                \n",
    "                                 0.0 : 0x70abffff,\n",
    "                                 0.05 : 0x3086ffff,\n",
    "                                 0.1 : 0x1269e2ff,\n",
    "                                 0.15 : 0x094aa5ff,\n",
    "                                 0.2 : 0x012c69ff,\n",
    "                                 0.25: 0x012cbcff},\n",
    "                        classification_strategy=gps.ClassificationStrategy.LESS_THAN_OR_EQUAL_TO)"
   ]
  },
  {
   "cell_type": "markdown",
   "metadata": {},
   "source": [
    "# Viewing mosaiced imagery\n",
    "\n",
    "In the following part, we'll see mosaiced imagery on the map for our county.\n",
    "\n",
    "First let's see where our county is on the map:"
   ]
  },
  {
   "cell_type": "code",
   "execution_count": null,
   "metadata": {
    "collapsed": true
   },
   "outputs": [],
   "source": [
    "M.add_layer(GeoJsonData(mapping(state_ll)), name=\"county\")\n",
    "p = county_ll.centroid\n",
    "M.set_center(p.x, p.y, 9)"
   ]
  },
  {
   "cell_type": "markdown",
   "metadata": {},
   "source": [
    "This cell queries the landsat layer for our county region during the summer months. "
   ]
  },
  {
   "cell_type": "code",
   "execution_count": null,
   "metadata": {
    "collapsed": true
   },
   "outputs": [],
   "source": [
    "layer = gps.query(\"s3://datahub-catalogs-us-east-1\", \n",
    "                  \"landsat-8-continental-us-2016\", \n",
    "                  layer_zoom=13,\n",
    "                  time_intervals=[datetime(2016, 6, 1, 0, 0, 0),\n",
    "                                  datetime(2016, 9, 1, 0, 0, 0)],\n",
    "                  query_geom=county_wm,\n",
    "                  num_partitions=500).cache()"
   ]
  },
  {
   "cell_type": "markdown",
   "metadata": {},
   "source": [
    "## Cloud masking based on QA band\n",
    "\n",
    "This block of code maps over the tiles of the imagery layer, determines whether the Landsat QA band indicates that this is a cloudy pixel, and sets each of the color bands to 0 (the no_data_value) if so. This will transform our 5 band imagery into 4 band RGB+NIR tiles.\n",
    "\n",
    "The cloud masking is based on the bit flag of the QA band, which is structured like this:\n",
    "\n",
    "![qa_band_values](landsat-qa-band.jpg)"
   ]
  },
  {
   "cell_type": "code",
   "execution_count": null,
   "metadata": {
    "collapsed": true
   },
   "outputs": [],
   "source": [
    "def mask_clouds(tile):\n",
    "    # Use the Landsat QA band to mask out cloud values\n",
    "    qa = tile.cells[bands[\"QA\"]]\n",
    "    cloud = np.right_shift(qa, 14)\n",
    "    result_bands = []\n",
    "    for band in tile.cells[:-1]:\n",
    "        band[cloud == 3] = 0\n",
    "        result_bands.append(band)\n",
    "    return gps.Tile.from_numpy_array(np.array(result_bands), no_data_value=0)\n",
    "\n",
    "cloud_masked = layer.to_numpy_rdd().mapValues(mask_clouds)"
   ]
  },
  {
   "cell_type": "markdown",
   "metadata": {},
   "source": [
    "## Mosaicing layers\n",
    "\n",
    "The code below mosaics the stack of imagery over time into a set of spatial tiles, where only up to one pixel covers any area. It chooses the \"youngest\" pixel, meaning the scene that is more recent wins. The mosaicing avoids keeping no data values; because we did cloud masking, this means that the clouds of newer images should be filled in with non-cloudy pixels from older images."
   ]
  },
  {
   "cell_type": "code",
   "execution_count": null,
   "metadata": {
    "collapsed": true
   },
   "outputs": [],
   "source": [
    "def mosaic(tiles):\n",
    "    # Mosiac by taking the youngest pixel.\n",
    "    sorted_tiles = sorted(list(tiles), key=lambda x: x[0], reverse=True)\n",
    "    result = sorted_tiles[0][1].cells.copy()\n",
    "    no_data_value = sorted_tiles[0][1].no_data_value\n",
    "    \n",
    "    DARK_PIXEL_CUTOFF = 6000\n",
    "\n",
    "    for _, tile_to_merge in sorted_tiles[1:]:        \n",
    "        cells_to_merge = tile_to_merge.cells\n",
    "        left_merge_condition = result[0] < DARK_PIXEL_CUTOFF\n",
    "        right_merge_condition = cells_to_merge[0] >= DARK_PIXEL_CUTOFF\n",
    "        \n",
    "        # We want to merge in data that is not already set or are very dark\n",
    "        # in the result,\n",
    "        # and where the incoming pixel represents relatively bright data\n",
    "        \n",
    "        for band_idx in range(1, result.shape[0] - 1):\n",
    "            left_merge_condition = left_merge_condition & \\\n",
    "                                   (result[band_idx] < DARK_PIXEL_CUTOFF)\n",
    "            right_merge_condition = right_merge_condition | \\\n",
    "                                    (cells_to_merge[band_idx] >= DARK_PIXEL_CUTOFF)\n",
    "            \n",
    "        result_bands = []\n",
    "        for band_idx in range(0, result.shape[0]):\n",
    "            band = result[band_idx]\n",
    "            np.copyto(band, \n",
    "                      cells_to_merge[band_idx], \n",
    "                      where=(left_merge_condition) & \\\n",
    "                            (right_merge_condition))\n",
    "            result_bands.append(band)\n",
    "        result = np.array(result_bands)  \n",
    "\n",
    "\n",
    "    return gps.Tile.from_numpy_array(result, no_data_value=no_data_value)\n",
    "\n",
    "mosaiced = cloud_masked.map(lambda tup: \\\n",
    "                                (gps.SpatialKey(tup[0].col, tup[0].row), \n",
    "                                (tup[0].instant, tup[1]))) \\\n",
    "                       .groupByKey() \\\n",
    "                       .mapValues(mosaic)\n",
    "\n",
    "mosaiced_layer = \\\n",
    "    gps.TiledRasterLayer.from_numpy_rdd(layer_type=gps.LayerType.SPATIAL, \n",
    "                                        numpy_rdd=mosaiced, \n",
    "                                        metadata=layer.layer_metadata, \n",
    "                                        zoom_level=layer.zoom_level)\n"
   ]
  },
  {
   "cell_type": "markdown",
   "metadata": {
    "collapsed": true
   },
   "source": [
    "## Viewing color corrected landsat\n",
    "\n",
    "Here we utilize GeoPySpark's ability to call python code from the JVM; \n",
    "for the display parameter we pass in a method that takes a python Tile and returns\n",
    "a PIL image. This image is then returned as a PNG by the tile server.\n",
    "\n",
    "`render_image` uses some values that seem to work OK with most landsat scenes\n",
    "to color correct the image. Clearly more advanced color correction (as well as more advanced mosaicing and cloud masking) could be used in place of these methods."
   ]
  },
  {
   "cell_type": "code",
   "execution_count": null,
   "metadata": {
    "collapsed": true
   },
   "outputs": [],
   "source": [
    "def render_image(tile):\n",
    "    cells = tile.cells\n",
    "    # Color correct - use magic numbers\n",
    "    magic_min, magic_max = 4000, 15176\n",
    "    norm_range = magic_max - magic_min\n",
    "    cells = cells.astype('int32')\n",
    "    # Clamp cells\n",
    "    cells[(cells != 0) & (cells < magic_min)] = magic_min\n",
    "    cells[(cells != 0) & (cells > magic_max)] = magic_max\n",
    "    colored = ((cells - magic_min) * 255) / norm_range\n",
    "    (r, g, b) = (colored[2], colored[1], colored[0])\n",
    "    alpha = np.full(r.shape, 255)\n",
    "    alpha[(cells[0] == tile.no_data_value) & \\\n",
    "          (cells[1] == tile.no_data_value) & \\\n",
    "          (cells[2] == tile.no_data_value)] = 0\n",
    "    rgba = np.dstack([r,g,b, alpha]).astype('uint8')\n",
    "\n",
    "    return Image.fromarray(rgba, mode='RGBA')\n",
    "\n",
    "mosaic_pyramid = mosaiced_layer \\\n",
    "                    .mask(county_wm) \\\n",
    "                    .repartition(100) \\\n",
    "                    .pyramid(resample_method=gps.ResampleMethod.BILINEAR)\n",
    "tms_server = gps.TMS.build(mosaic_pyramid, display=render_image)\n"
   ]
  },
  {
   "cell_type": "code",
   "execution_count": null,
   "metadata": {
    "collapsed": true
   },
   "outputs": [],
   "source": [
    "p = county_ll.centroid\n",
    "M.set_center(p.x, p.y, 9)\n",
    "\n",
    "for l in M.layers:\n",
    "    M.remove_layer(l)\n",
    "M.add_layer(TMSRasterData(tms_server), name=\"mosaic\")"
   ]
  },
  {
   "cell_type": "markdown",
   "metadata": {},
   "source": [
    "## Computing NDWI over time\n",
    "\n",
    "Here we compute the [Normalized Difference Water Index, or NDWI](https://en.wikipedia.org/wiki/Normalized_difference_water_index) of the imagery. We are using the version for detecing bodies of water, defined by:\n",
    "\n",
    "![ndwi equation](files/ndwi.png)"
   ]
  },
  {
   "cell_type": "code",
   "execution_count": null,
   "metadata": {
    "collapsed": true
   },
   "outputs": [],
   "source": [
    "g = layer.bands(bands[\"Green\"]).convert_data_type(gps.CellType.FLOAT64).cache()\n",
    "nir = layer.bands(bands[\"NIR\"]).convert_data_type(gps.CellType.FLOAT64).cache()\n",
    "\n",
    "ndwi = (g - nir) / (g + nir)"
   ]
  },
  {
   "cell_type": "markdown",
   "metadata": {},
   "source": [
    "Now we can take the `mean_series` of the data to calculate the average NDWI\n",
    "of our county per time of available imagery. "
   ]
  },
  {
   "cell_type": "code",
   "execution_count": null,
   "metadata": {
    "collapsed": true
   },
   "outputs": [],
   "source": [
    "mean_series = ndwi.mean_series(county_wm)\n",
    "ndwi_over_time = { k: v for (k, v) in mean_series }"
   ]
  },
  {
   "cell_type": "markdown",
   "metadata": {},
   "source": [
    "To visualize this data, we can convert it to a pandas dataframe, remove `nan` values\n",
    "and plot it over time"
   ]
  },
  {
   "cell_type": "code",
   "execution_count": null,
   "metadata": {
    "collapsed": true
   },
   "outputs": [],
   "source": [
    "df = pd.DataFrame.from_dict(ndwi_over_time,  orient='index')\n",
    "df = df.dropna(axis=0)\n",
    "df"
   ]
  },
  {
   "cell_type": "code",
   "execution_count": null,
   "metadata": {
    "collapsed": true
   },
   "outputs": [],
   "source": [
    "df.plot()\n",
    "plt.show()"
   ]
  },
  {
   "cell_type": "markdown",
   "metadata": {},
   "source": [
    "We can compute the time that has the maximum NDWI with pandas:"
   ]
  },
  {
   "cell_type": "code",
   "execution_count": null,
   "metadata": {
    "collapsed": true
   },
   "outputs": [],
   "source": [
    "max_time = df[0].argmax().to_pydatetime()\n",
    "max_time"
   ]
  },
  {
   "cell_type": "markdown",
   "metadata": {},
   "source": [
    "## Visualizing the scene with the maximum NDWI\n",
    "\n",
    "Here we filter our spatiotemporal layer to a spatial layer, using the date we computed above. We then paint it on the map using the color ramp defined above.\n",
    "Ideally, we'll see any bodies of water marked in clear blue."
   ]
  },
  {
   "cell_type": "code",
   "execution_count": null,
   "metadata": {
    "collapsed": true
   },
   "outputs": [],
   "source": [
    "spatial_layer = ndwi.to_spatial_layer(target_time=max_time)"
   ]
  },
  {
   "cell_type": "code",
   "execution_count": null,
   "metadata": {
    "collapsed": true
   },
   "outputs": [],
   "source": [
    "pyramid = spatial_layer \\\n",
    "            .mask(county_wm) \\\n",
    "            .repartition(100) \\\n",
    "            .pyramid(resample_method=gps.ResampleMethod.BILINEAR)"
   ]
  },
  {
   "cell_type": "code",
   "execution_count": null,
   "metadata": {
    "collapsed": true
   },
   "outputs": [],
   "source": [
    "tms_server = gps.TMS.build(pyramid, display=ndwi_color_map)\n",
    "\n",
    "for l in M.layers:\n",
    "    M.remove_layer(l)\n",
    "M.add_layer(TMSRasterData(tms_server), name=\"ndwi\")"
   ]
  }
 ],
 "metadata": {
  "kernelspec": {
   "display_name": "GeoNotebook + GeoPySpark",
   "language": "python",
   "name": "geonotebook3"
  },
  "language_info": {
   "codemirror_mode": {
    "name": "ipython",
    "version": 3
   },
   "file_extension": ".py",
   "mimetype": "text/x-python",
   "name": "python",
   "nbconvert_exporter": "python",
   "pygments_lexer": "ipython3",
   "version": "3.4.5"
  }
 },
 "nbformat": 4,
 "nbformat_minor": 2
}
