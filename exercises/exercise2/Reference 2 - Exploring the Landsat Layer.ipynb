{
 "cells": [
  {
   "cell_type": "markdown",
   "metadata": {},
   "source": [
    "## Analyzing NDWI through Time with Landsat 8\n",
    "\n",
    "In this section, we'll be taking a look at how the \n",
    "Normalized Difference Water Index (NDWI) changes throughout 2016\n",
    "for California."
   ]
  },
  {
   "cell_type": "code",
   "execution_count": null,
   "metadata": {
    "collapsed": true
   },
   "outputs": [],
   "source": [
    "import geopyspark as gps\n",
    "from pyspark import SparkContext\n",
    "import numpy as np\n",
    "from datetime import datetime\n",
    "from shapely.geometry import mapping, shape\n",
    "import pyproj\n",
    "from shapely.ops import transform\n",
    "from functools import partial\n",
    "import urllib.request, json\n",
    "from geonotebook.wrappers import TMSRasterData\n",
    "from PIL import Image"
   ]
  },
  {
   "cell_type": "code",
   "execution_count": null,
   "metadata": {
    "collapsed": true
   },
   "outputs": [],
   "source": [
    "# Grab data for Nevada\n",
    "state_name, county_name = \"NV\", \"Mineral\"\n",
    "def get_state_shapes(state, county):\n",
    "    project = partial(\n",
    "        pyproj.transform,\n",
    "        pyproj.Proj(init='epsg:4326'),\n",
    "        pyproj.Proj(init='epsg:3857'))\n",
    "\n",
    "    state_url = \"https://raw.githubusercontent.com/johan/world.geo.json/master/countries/USA/{}.geo.json\".format(state)\n",
    "    county_url = \"https://raw.githubusercontent.com/johan/world.geo.json/master/countries/USA/{}/{}.geo.json\".format(state,county)\n",
    "    read_json = lambda url: json.loads(urllib.request.urlopen(url).read().decode(\"utf-8\"))\n",
    "    state_ll = shape(read_json(state_url)['features'][0]['geometry'])\n",
    "    state_wm = transform(project, state_ll)\n",
    "    county_ll = shape(read_json(county_url)['features'][0]['geometry'])\n",
    "    county_wm = transform(project, county_ll)\n",
    "    return (state_ll, state_wm, county_ll, county_wm)\n",
    "\n",
    "(state_ll, state_wm, county_ll, county_wm) = get_state_shapes(state_name, county_name) "
   ]
  },
  {
   "cell_type": "code",
   "execution_count": null,
   "metadata": {
    "collapsed": true
   },
   "outputs": [],
   "source": [
    "# Set up our spark context\n",
    "conf = gps.geopyspark_conf(appName=\"Landsat\") \\\n",
    "          .setMaster(\"local[*]\") \\\n",
    "          .set(key='spark.ui.enabled', value='true') \\\n",
    "          .set(key=\"spark.driver.memory\", value=\"4G\") \\\n",
    "          .set(\"spark.hadoop.yarn.timeline-service.enabled\", False)\n",
    "sc = SparkContext(conf=conf)"
   ]
  },
  {
   "cell_type": "markdown",
   "metadata": {},
   "source": [
    "## Initial Exploration: Seeing NDWI on the map\n",
    "\n"
   ]
  },
  {
   "cell_type": "code",
   "execution_count": null,
   "metadata": {
    "collapsed": true
   },
   "outputs": [],
   "source": [
    "bands = { \"Blue\": 0,\n",
    "          \"Green\": 1,\n",
    "          \"Red\": 2,\n",
    "          \"NIR\": 3,\n",
    "          \"QA\": 4 }"
   ]
  },
  {
   "cell_type": "markdown",
   "metadata": {},
   "source": [
    "### Loading up an RDD of Landsat data\n",
    "\n",
    "We first grab an RDD of relevant landsat data. We will be grabbing some pre-ingested Landsat 8 data from a GeoTrellis layer in the Azavea DataHub. We'll query our specific state to only grab tiles from scenes which intersect our state boundary."
   ]
  },
  {
   "cell_type": "code",
   "execution_count": null,
   "metadata": {
    "collapsed": true
   },
   "outputs": [],
   "source": [
    "layer = gps.query(\"s3://datahub-catalogs-us-east-1\", \n",
    "                  \"landsat-8-continental-us-2016\", \n",
    "                  layer_zoom=13,\n",
    "                  time_intervals=[datetime(2016, 4, 1, 18, 26, 47),\n",
    "                                  datetime(2016, 4, 3, 18, 26, 47)],\n",
    "                  query_geom=county_wm,\n",
    "                  num_partitions=100).cache()"
   ]
  },
  {
   "cell_type": "markdown",
   "metadata": {},
   "source": [
    "## Cloud masking"
   ]
  },
  {
   "cell_type": "code",
   "execution_count": null,
   "metadata": {
    "collapsed": true
   },
   "outputs": [],
   "source": [
    "def mask_clouds(tile):\n",
    "    # Use the Landsat QA band to mask out cloud values\n",
    "    qa = tile.cells[bands[\"QA\"]]\n",
    "    #cloud = np.bitwise_and(qa, 0x4000)\n",
    "    #cirrus = np.bitwise_and(qa, 0x2000)\n",
    "    cloud = np.right_shift(qa, 14)\n",
    "    result_bands = []\n",
    "    for band in tile.cells[:-1]:\n",
    "        band[cloud == 3] = 0\n",
    "        result_bands.append(band)\n",
    "    return gps.Tile.from_numpy_array(np.array(result_bands), no_data_value=0)\n",
    "\n",
    "cloud_masked = layer.to_numpy_rdd().mapValues(mask_clouds)"
   ]
  },
  {
   "cell_type": "markdown",
   "metadata": {},
   "source": [
    "## Mosaicing layers"
   ]
  },
  {
   "cell_type": "code",
   "execution_count": null,
   "metadata": {
    "collapsed": true
   },
   "outputs": [],
   "source": [
    "np_layer = layer.to_numpy_rdd()\n",
    " \n",
    "def mosaic(tiles):\n",
    "    # Mosiac by taking the youngest pixel.\n",
    "    sorted_tiles = sorted(list(tiles), key=lambda x: x[0], reverse=True)\n",
    "    result = sorted_tiles[0][1].cells.copy()\n",
    "    no_data_value = sorted_tiles[0][1].no_data_value\n",
    "    for _, tile_to_merge in sorted_tiles[1:]:\n",
    "        cells_to_merge = tile_to_merge.cells\n",
    "        left_merge_condition = result[0] == no_data_value\n",
    "        right_merge_condition = cells_to_merge[0] != tile_to_merge.no_data_value\n",
    "        \n",
    "        # We want to merge in data that is not already set\n",
    "        # in the result (where all pixels are set to the no_data_value),\n",
    "        # and where the incoming pixel represents data\n",
    "        # (where any pixel does not equal the no_data_value)\n",
    "        for band_idx in range(1, result.shape[0] - 1):\n",
    "            left_merge_condition = left_merge_condition & \\\n",
    "                                   (result[band_idx] == no_data_value)\n",
    "            right_merge_condition = right_merge_condition | \\\n",
    "                                    (cells_to_merge[band_idx] != tile_to_merge.no_data_value)\n",
    "            \n",
    "        result_bands = []\n",
    "        for band_idx in range(0, result.shape[0]):\n",
    "            band = result[band_idx]\n",
    "            np.copyto(band, \n",
    "                      cells_to_merge[band_idx], \n",
    "                      where=(left_merge_condition) & \\\n",
    "                            (right_merge_condition))\n",
    "            result_bands.append(band)\n",
    "        result = np.array(result_bands)    \n",
    "\n",
    "    return gps.Tile.from_numpy_array(result, no_data_value=no_data_value)\n",
    "\n",
    "mosaiced = np_layer.map(lambda tup: \\\n",
    "                       (gps.SpatialKey(tup[0].col, tup[0].row), \n",
    "                        (tup[0].instant, tup[1]))) \\\n",
    "                   .groupByKey() \\\n",
    "                   .mapValues(mosaic)\n",
    "\n",
    "mosaiced_layer = \\\n",
    "    gps.TiledRasterLayer.from_numpy_rdd(layer_type=gps.LayerType.SPATIAL, \n",
    "                                        numpy_rdd=mosaiced, \n",
    "                                        metadata=layer.layer_metadata, \n",
    "                                        zoom_level=layer.zoom_level)\n",
    "mosaiced_layer.count()\n"
   ]
  },
  {
   "cell_type": "markdown",
   "metadata": {
    "collapsed": true
   },
   "source": [
    "## Viewing color corrected landsat"
   ]
  },
  {
   "cell_type": "code",
   "execution_count": null,
   "metadata": {
    "collapsed": true
   },
   "outputs": [],
   "source": [
    "def render_image(tile):\n",
    "    cells = tile.cells\n",
    "    # Color correct - use magic numbers\n",
    "    magic_min, magic_max = 4000, 15176\n",
    "    norm_range = magic_max - magic_min\n",
    "    cells = cells.astype('int32')\n",
    "    # Clamp cells\n",
    "    cells[(cells != 0) & (cells < magic_min)] = magic_min\n",
    "    cells[(cells != 0) & (cells > magic_max)] = magic_max\n",
    "    colored = ((cells - magic_min) * 255) / norm_range\n",
    "    (r, g, b) = (colored[2], colored[1], colored[0])\n",
    "    alpha = np.full(r.shape, 255)\n",
    "    alpha[(cells[0] == tile.no_data_value) & \\\n",
    "          (cells[1] == tile.no_data_value) & \\\n",
    "          (cells[2] == tile.no_data_value)] = 0\n",
    "    rgba = np.dstack([r,g,b, alpha]).astype('uint8')\n",
    "    #return Image.fromarray(colored[1], mode='P')\n",
    "    return Image.fromarray(rgba, mode='RGBA')\n",
    "\n",
    "#render_image(mosaiced_layer.to_numpy_rdd().first()[1])\n",
    "mosaic_pyramid = mosaiced_layer.pyramid(resample_method=gps.ResampleMethod.BILINEAR)\n",
    "tms_server = gps.TMS.build(mosaic_pyramid, display=render_image)\n",
    "M.add_layer(TMSRasterData(tms_server), name=\"mosaic\")"
   ]
  },
  {
   "cell_type": "code",
   "execution_count": null,
   "metadata": {
    "collapsed": true
   },
   "outputs": [],
   "source": [
    "M.remove_layer(M.layers[0])"
   ]
  },
  {
   "cell_type": "markdown",
   "metadata": {},
   "source": [
    "## Viewing NDWI"
   ]
  },
  {
   "cell_type": "code",
   "execution_count": null,
   "metadata": {
    "collapsed": true
   },
   "outputs": [],
   "source": [
    "# Grab a date from the set of available dates\n",
    "#date = list(map(lambda k: gps.geotrellis._convert_to_unix_time(k.instant), layer.collect_keys()))\n",
    "date = list(map(lambda k: k.instant, layer.collect_keys()))"
   ]
  },
  {
   "cell_type": "code",
   "execution_count": null,
   "metadata": {
    "collapsed": true
   },
   "outputs": [],
   "source": [
    "#date = datetime.strptime('2016-03-30 15:32:57', '%Y-%m-%d %H:%M:%S')\n",
    "dates = list(set(date))\n",
    "dates"
   ]
  },
  {
   "cell_type": "code",
   "execution_count": null,
   "metadata": {
    "collapsed": true
   },
   "outputs": [],
   "source": [
    "g = layer.bands(bands[\"Green\"]).convert_data_type(gps.CellType.FLOAT64).cache()\n",
    "nir = layer.bands(bands[\"NIR\"]).convert_data_type(gps.CellType.FLOAT64).cache()\n",
    "\n",
    "ndwi = (g - nir) / (g + nir)"
   ]
  },
  {
   "cell_type": "code",
   "execution_count": null,
   "metadata": {
    "collapsed": true
   },
   "outputs": [],
   "source": [
    "#nir.to_numpy_rdd().first()[1].cells.min()\n",
    "ndwi.get_min_max()"
   ]
  },
  {
   "cell_type": "code",
   "execution_count": null,
   "metadata": {
    "collapsed": true
   },
   "outputs": [],
   "source": [
    "ndwi_spatial = ndwi.to_spatial_layer(target_time=dates[0]).mask(county_wm)\n",
    "ndwi_spatial.get_min_max()"
   ]
  },
  {
   "cell_type": "code",
   "execution_count": null,
   "metadata": {
    "collapsed": true
   },
   "outputs": [],
   "source": [
    "pyramid = ndwi_spatial.pyramid(resample_method=gps.ResampleMethod.BILINEAR)"
   ]
  },
  {
   "cell_type": "code",
   "execution_count": null,
   "metadata": {
    "collapsed": true
   },
   "outputs": [],
   "source": [
    "ndwi_color_map = \\\n",
    "     gps.ColorMap.build(breaks= {-0.1 : 0xaacdffaa,                                \n",
    "                                 0.0 : 0x70abffff,\n",
    "                                 0.05 : 0x3086ffff,\n",
    "                                 0.1 : 0x1269e2ff,\n",
    "                                 0.15 : 0x094aa5ff,\n",
    "                                 0.2 : 0x012c69ff,\n",
    "                                 0.25: 0x012cbcff},\n",
    "                        classification_strategy=gps.ClassificationStrategy.LESS_THAN_OR_EQUAL_TO)"
   ]
  },
  {
   "cell_type": "code",
   "execution_count": null,
   "metadata": {
    "collapsed": true
   },
   "outputs": [],
   "source": [
    "tms_server = gps.TMS.build(pyramid, display=ndwi_color_map)\n",
    "M.add_layer(TMSRasterData(tms_server), name=\"landsat\")"
   ]
  },
  {
   "cell_type": "code",
   "execution_count": null,
   "metadata": {
    "collapsed": true
   },
   "outputs": [],
   "source": [
    "M.remove_layer(M.layers[0])"
   ]
  },
  {
   "cell_type": "code",
   "execution_count": null,
   "metadata": {
    "collapsed": true
   },
   "outputs": [],
   "source": [
    "ndwi.mean_series(county_wm)"
   ]
  }
 ],
 "metadata": {
  "kernelspec": {
   "display_name": "GeoNotebook + GeoPySpark",
   "language": "python",
   "name": "geonotebook3"
  },
  "language_info": {
   "codemirror_mode": {
    "name": "ipython",
    "version": 3
   },
   "file_extension": ".py",
   "mimetype": "text/x-python",
   "name": "python",
   "nbconvert_exporter": "python",
   "pygments_lexer": "ipython3",
   "version": "3.4.5"
  }
 },
 "nbformat": 4,
 "nbformat_minor": 2
}
