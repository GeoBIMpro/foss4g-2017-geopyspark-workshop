{
 "cells": [
  {
   "cell_type": "code",
   "execution_count": null,
   "metadata": {
    "collapsed": true
   },
   "outputs": [],
   "source": [
    "import geopyspark as gps\n",
    "from pyspark import SparkContext\n",
    "from shapely.geometry import mapping, shape, asShape, MultiPoint, MultiLineString\n",
    "from geonotebook.wrappers import TMSRasterData, GeoJsonData\n",
    "import pyproj\n",
    "from shapely.ops import transform\n",
    "from functools import partial\n",
    "import os, urllib.request, json"
   ]
  },
  {
   "cell_type": "code",
   "execution_count": null,
   "metadata": {
    "collapsed": true
   },
   "outputs": [],
   "source": [
    "# Set up our spark context\n",
    "conf = gps.geopyspark_conf(appName=\"Landsat\") \\\n",
    "          .setMaster(\"local[*]\") \\\n",
    "          .set(key='spark.ui.enabled', value='true') \\\n",
    "          .set(key=\"spark.driver.memory\", value=\"8G\") \\\n",
    "          .set(\"spark.hadoop.yarn.timeline-service.enabled\", False)\n",
    "sc = SparkContext(conf=conf)"
   ]
  },
  {
   "cell_type": "code",
   "execution_count": null,
   "metadata": {
    "collapsed": true
   },
   "outputs": [],
   "source": [
    "# Grab data for Nevada\n",
    "state_name, county_name = \"NV\", \"Mineral\"\n",
    "def get_state_shapes(state, county):\n",
    "    project = partial(\n",
    "        pyproj.transform,\n",
    "        pyproj.Proj(init='epsg:4326'),\n",
    "        pyproj.Proj(init='epsg:3857'))\n",
    "\n",
    "    state_url = \"https://raw.githubusercontent.com/johan/world.geo.json/master/countries/USA/{}.geo.json\".format(state)\n",
    "    county_url = \"https://raw.githubusercontent.com/johan/world.geo.json/master/countries/USA/{}/{}.geo.json\".format(state,county)\n",
    "    read_json = lambda url: json.loads(urllib.request.urlopen(url).read().decode(\"utf-8\"))\n",
    "    state_ll = shape(read_json(state_url)['features'][0]['geometry'])\n",
    "    state_wm = transform(project, state_ll)\n",
    "    county_ll = shape(read_json(county_url)['features'][0]['geometry'])\n",
    "    county_wm = transform(project, county_ll)\n",
    "    return (state_ll, state_wm, county_ll, county_wm)\n",
    "\n",
    "(state_ll, state_wm, county_ll, county_wm) = get_state_shapes(state_name, county_name) "
   ]
  },
  {
   "cell_type": "code",
   "execution_count": null,
   "metadata": {
    "collapsed": true
   },
   "outputs": [],
   "source": [
    "import time\n",
    "def timeit(fn):\n",
    "    t0 = time.time()\n",
    "    x = fn()\n",
    "    t1 = time.time()\n",
    "\n",
    "    total = t1-t0\n",
    "    print(\"Took {}\".format(total))\n",
    "    return x"
   ]
  },
  {
   "cell_type": "code",
   "execution_count": null,
   "metadata": {
    "collapsed": true
   },
   "outputs": [],
   "source": [
    "nlcd_layer_name = \"nlcd-zoomed-256\""
   ]
  },
  {
   "cell_type": "markdown",
   "metadata": {},
   "source": [
    "# View NLCD from GeoTrellis Catalog"
   ]
  },
  {
   "cell_type": "code",
   "execution_count": null,
   "metadata": {
    "collapsed": true
   },
   "outputs": [],
   "source": [
    "\n",
    "tms_server = gps.TMS.build((\"s3://datahub-catalogs-us-east-1\", nlcd_layer_name), \n",
    "                           display=gps.ColorMap.nlcd_colormap())\n"
   ]
  },
  {
   "cell_type": "code",
   "execution_count": null,
   "metadata": {},
   "outputs": [],
   "source": [
    "M.add_layer(TMSRasterData(tms_server), name=\"nlcd\")\n",
    "M.set_center(-120.32, 47.84, 7)"
   ]
  },
  {
   "cell_type": "markdown",
   "metadata": {},
   "source": [
    "# Read State NLCD Tiles"
   ]
  },
  {
   "cell_type": "code",
   "execution_count": null,
   "metadata": {
    "scrolled": true
   },
   "outputs": [],
   "source": [
    "p = county_ll.centroid\n",
    "M.set_center(p.x, p.y, 9)"
   ]
  },
  {
   "cell_type": "markdown",
   "metadata": {},
   "source": [
    "## Work with County RDD"
   ]
  },
  {
   "cell_type": "code",
   "execution_count": null,
   "metadata": {},
   "outputs": [],
   "source": [
    "def get_layer(): \n",
    "    return gps.query(\"s3://datahub-catalogs-us-east-1\", \n",
    "                      nlcd_layer_name, \n",
    "                      layer_zoom=13, \n",
    "                      query_geom=state_wm,\n",
    "                      num_partitions=100).cache()\n",
    "layer = timeit(get_layer)"
   ]
  },
  {
   "cell_type": "code",
   "execution_count": null,
   "metadata": {},
   "outputs": [],
   "source": [
    "layer.get_min_max()"
   ]
  },
  {
   "cell_type": "code",
   "execution_count": null,
   "metadata": {},
   "outputs": [],
   "source": [
    "(layer + 10).get_min_max()"
   ]
  },
  {
   "cell_type": "code",
   "execution_count": null,
   "metadata": {
    "collapsed": true
   },
   "outputs": [],
   "source": [
    "for l in M.layers:\n",
    "    M.remove_layer(l)"
   ]
  },
  {
   "cell_type": "code",
   "execution_count": null,
   "metadata": {
    "collapsed": true
   },
   "outputs": [],
   "source": [
    "pyramid = layer.repartition(100).pyramid()\n"
   ]
  },
  {
   "cell_type": "code",
   "execution_count": null,
   "metadata": {
    "collapsed": true
   },
   "outputs": [],
   "source": [
    "tms_server = gps.TMS.build(pyramid, \n",
    "                           display=gps.ColorMap.nlcd_colormap())"
   ]
  },
  {
   "cell_type": "code",
   "execution_count": null,
   "metadata": {},
   "outputs": [],
   "source": [
    "M.add_layer(TMSRasterData(tms_server), name=\"nlcd\")\n",
    "#M.add_layer(vd, name=name)"
   ]
  },
  {
   "cell_type": "code",
   "execution_count": null,
   "metadata": {},
   "outputs": [],
   "source": [
    "M.add_layer(GeoJsonData(mapping(state_ll)), name=\"poly\")"
   ]
  },
  {
   "cell_type": "code",
   "execution_count": null,
   "metadata": {},
   "outputs": [],
   "source": [
    "M.remove_layer(M.layers[0])"
   ]
  },
  {
   "cell_type": "code",
   "execution_count": null,
   "metadata": {},
   "outputs": [],
   "source": [
    "masked = layer.mask(geometries=state_wm)\n",
    "masked_pyramid = masked.repartition(100).pyramid()\n",
    "tms_server = gps.TMS.build(masked_pyramid, \n",
    "                           display=gps.ColorMap.nlcd_colormap())\n",
    "M.add_layer(TMSRasterData(tms_server), name=\"nlcd\")"
   ]
  },
  {
   "cell_type": "code",
   "execution_count": null,
   "metadata": {
    "collapsed": true
   },
   "outputs": [],
   "source": [
    "for l in M.layers:\n",
    "    M.remove_layer(l)"
   ]
  },
  {
   "cell_type": "code",
   "execution_count": null,
   "metadata": {},
   "outputs": [],
   "source": [
    "cultivated_land_colormap = gps.ColorMap.build(breaks={82: 0x00FF00FF},\n",
    "                                              classification_strategy=gps.ClassificationStrategy.EXACT,\n",
    "                                              fallback=0x00000000)    \n",
    "tms_server = gps.TMS.build(masked_pyramid, \n",
    "                           display=cultivated_land_colormap)\n",
    "M.add_layer(TMSRasterData(tms_server), name=\"nlcd\")"
   ]
  },
  {
   "cell_type": "code",
   "execution_count": null,
   "metadata": {},
   "outputs": [],
   "source": [
    "M.remove_layer(M.layers[0])"
   ]
  },
  {
   "cell_type": "code",
   "execution_count": null,
   "metadata": {},
   "outputs": [],
   "source": [
    "rdd = masked.to_numpy_rdd()\n",
    "rdd.first()"
   ]
  },
  {
   "cell_type": "code",
   "execution_count": null,
   "metadata": {},
   "outputs": [],
   "source": [
    "import numpy as np\n",
    "def get_counts(tile):\n",
    "    values, counts = np.unique(tile.cells.flatten(), return_counts=True)\n",
    "    d = {}\n",
    "    for v, c in zip(values, counts):\n",
    "        if v != -128: # Remove NoData\n",
    "            d[v] = c\n",
    "    return d\n",
    "\n",
    "def merge_counts(d1, d2):\n",
    "    d = {}\n",
    "    for k in set(d1.keys()).union(set(d2.keys())):\n",
    "        v = 0\n",
    "        if k in d1:\n",
    "            v += d1[k]\n",
    "        if k in d2:\n",
    "            v += d2[k]\n",
    "        d[k] = v\n",
    "    return d\n",
    "\n",
    "counts = rdd.map(lambda x: get_counts(x[1])).reduce(merge_counts)\n",
    "counts"
   ]
  },
  {
   "cell_type": "code",
   "execution_count": null,
   "metadata": {
    "collapsed": true
   },
   "outputs": [],
   "source": [
    "import pandas as pd\n",
    "import matplotlib.pyplot as plt\n",
    "\n",
    "labels = { 0: 'NoData',\n",
    "          11: 'Open Water',\n",
    "          12: 'Perennial Ice/Snow',\n",
    "          21: 'Developed, Open Space',\n",
    "          22: 'Developed, Low Intensity',\n",
    "          23: 'Developed, Medium Intensity',\n",
    "          24: 'Developed High Intensity',\n",
    "          31: 'Barren Land (Rock/Sand/Clay)',\n",
    "          41: 'Deciduous Forest',\n",
    "          42: 'Evergreen Forest ',\n",
    "          43: 'Mixed Forest',\n",
    "          52: 'Shrub/Scrub',\n",
    "          71: 'Grassland/Herbaceous',\n",
    "          81: 'Pasture/Hay',\n",
    "          82: 'Cultivated Crops',\n",
    "          90: 'Woody Wetlands',\n",
    "          95: 'Emergent Herbaceous Wetlands'}\n",
    "named_counts = {}\n",
    "for k in counts:\n",
    "    named_counts[labels[k]] = counts[k]\n",
    "\n",
    "df = pd.DataFrame.from_dict(named_counts,  orient='index')"
   ]
  },
  {
   "cell_type": "code",
   "execution_count": null,
   "metadata": {},
   "outputs": [],
   "source": [
    "df"
   ]
  },
  {
   "cell_type": "code",
   "execution_count": null,
   "metadata": {},
   "outputs": [],
   "source": [
    "plt.figure()\n",
    "df.plot.bar(legend=False)\n",
    "plt.show()"
   ]
  }
 ],
 "metadata": {
  "kernelspec": {
   "display_name": "GeoNotebook + GeoPySpark",
   "language": "python",
   "name": "geonotebook3"
  },
  "language_info": {
   "codemirror_mode": {
    "name": "ipython",
    "version": 3
   },
   "file_extension": ".py",
   "mimetype": "text/x-python",
   "name": "python",
   "nbconvert_exporter": "python",
   "pygments_lexer": "ipython3",
   "version": "3.4.5"
  }
 },
 "nbformat": 4,
 "nbformat_minor": 2
}
