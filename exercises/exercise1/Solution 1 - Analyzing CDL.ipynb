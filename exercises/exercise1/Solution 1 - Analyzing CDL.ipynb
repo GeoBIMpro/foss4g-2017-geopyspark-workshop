{
 "cells": [
  {
   "cell_type": "markdown",
   "metadata": {},
   "source": [
    "# Analyzing the Crop Data Layer\n",
    "\n",
    "In this exercise, we will be analyzing the 2016 [Cropland Data Layer](https://www.nass.usda.gov/Research_and_Science/Cropland/SARS1a.php), \n",
    "or CDL, which is a 30mx30m national scale land cover data layer created annually for the continental United States using satellite imagery and extensive agricultural ground truth.\n",
    "\n",
    "There are 4 objectives in this exercise:\n",
    "\n",
    "- __Objective 1__: View the entire CDL layer on the map.\n",
    "- __Objective 2__: View CDL, cropped to your state polygon, on the map.\n",
    "- __Objective 3__: Determine the 3 most popular crops that were grown in your state in 2016, according to the CDL.\n",
    "- __Objective 4__: View a specific crop on the map."
   ]
  },
  {
   "cell_type": "code",
   "execution_count": 1,
   "metadata": {
    "collapsed": true
   },
   "outputs": [],
   "source": [
    "import geopyspark as gps\n",
    "from pyspark import SparkContext\n",
    "import json\n",
    "from shapely.geometry import mapping, shape\n",
    "from shapely.ops import transform\n",
    "import pyproj\n",
    "import urllib.request, json\n",
    "from functools import partial\n",
    "from geonotebook.wrappers import TMSRasterData, GeoJsonData\n",
    "\n",
    "import numpy as np\n",
    "import pandas as pd\n",
    "import matplotlib.pyplot as plt\n",
    "\n",
    "from pyspark import SparkContext"
   ]
  },
  {
   "cell_type": "markdown",
   "metadata": {},
   "source": [
    "### Setup: State data and Spark initialization\n",
    "\n",
    "The next 2 cells grab the shapes for our state and start up the spark context."
   ]
  },
  {
   "cell_type": "code",
   "execution_count": 2,
   "metadata": {
    "collapsed": true
   },
   "outputs": [],
   "source": [
    "# Grab data for Nevada\n",
    "state_name, county_name = \"NV\", \"Mineral\"\n",
    "def get_state_shapes(state, county):\n",
    "    project = partial(\n",
    "        pyproj.transform,\n",
    "        pyproj.Proj(init='epsg:4326'),\n",
    "        pyproj.Proj(init='epsg:3857'))\n",
    "\n",
    "    state_url = \"https://raw.githubusercontent.com/johan/world.geo.json/master/countries/USA/{}.geo.json\".format(state)\n",
    "    county_url = \"https://raw.githubusercontent.com/johan/world.geo.json/master/countries/USA/{}/{}.geo.json\".format(state,county)\n",
    "    read_json = lambda url: json.loads(urllib.request.urlopen(url).read().decode(\"utf-8\"))\n",
    "    state_ll = shape(read_json(state_url)['features'][0]['geometry'])\n",
    "    state_wm = transform(project, state_ll)\n",
    "    county_ll = shape(read_json(county_url)['features'][0]['geometry'])\n",
    "    county_wm = transform(project, county_ll)\n",
    "    return (state_ll, state_wm, county_ll, county_wm)\n",
    "\n",
    "(state_ll, state_wm, county_ll, county_wm) = get_state_shapes(state_name, county_name) "
   ]
  },
  {
   "cell_type": "code",
   "execution_count": 3,
   "metadata": {
    "collapsed": true
   },
   "outputs": [],
   "source": [
    "# Set up our spark context\n",
    "conf = gps.geopyspark_conf(appName=\"Exercise 1\") \\\n",
    "          .setMaster(\"local[*]\") \\\n",
    "          .set(key='spark.ui.enabled', value='true') \\\n",
    "          .set(key=\"spark.driver.memory\", value=\"8G\") \\\n",
    "          .set(\"spark.hadoop.yarn.timeline-service.enabled\", False)\n",
    "sc = SparkContext(conf=conf)"
   ]
  },
  {
   "cell_type": "markdown",
   "metadata": {},
   "source": [
    "### Setup: color and value data for CDL\n",
    "\n",
    "The following values are necessary to accomplish the objectives.\n",
    "\n",
    "See the final cells of the notebook for expanded versions of `values_to_crops` and `crops`; they are on one line here for notebook readability."
   ]
  },
  {
   "cell_type": "code",
   "execution_count": 4,
   "metadata": {
    "collapsed": true
   },
   "outputs": [],
   "source": [
    "# Layer Name for querying the catalog\n",
    "cdl_layer_name = \"cdl-2016-zoomed\"\n",
    "\n",
    "# ColorMap for rendering the CDL values\n",
    "cdl_colormap = gps.ColorMap.from_break_map({1: 0xffd300ff,2: 0xff2626ff,3: 0x00a8e5ff,4: 0xff9e0cff,5: 0x267000ff,6: 0xffff00ff,10: 0x70a500ff,11: 0x00af4cff,12: 0xdda50cff,13: 0xdda50cff,14: 0x7fd3ffff,21: 0xe2007cff,22: 0x896354ff,23: 0xd8b56bff,24: 0xa57000ff,25: 0xd69ebcff,26: 0x707000ff,27: 0xad007cff,28: 0xa05989ff,29: 0x700049ff,30: 0xd69ebcff,31: 0xd1ff00ff,32: 0x7f99ffff,33: 0xd6d600ff,34: 0xd1ff00ff,35: 0x00af4cff,36: 0xffa5e2ff,37: 0xa5f28cff,38: 0x00af4cff,39: 0xd69ebcff,41: 0xa800e5ff,42: 0xa50000ff,43: 0x702600ff,44: 0x00af4cff,45: 0xb27fffff,46: 0x702600ff,47: 0xff6666ff,48: 0xff6666ff,49: 0xffcc66ff,50: 0xff6666ff,51: 0x00af4cff,52: 0x00ddafff,53: 0x54ff00ff,54: 0xf2a377ff,55: 0xff6666ff,56: 0x00af4cff,57: 0x7fd3ffff,58: 0xe8bfffff,59: 0xafffddff,60: 0x00af4cff,61: 0xbfbf77ff,63: 0x93cc93ff,64: 0xc6d69eff,65: 0xccbfa3ff,66: 0xff00ffff,67: 0xff8eaaff,68: 0xba004fff,69: 0x704489ff,70: 0x007777ff,71: 0xb29b70ff,72: 0xffff7fff,74: 0xb5705bff,75: 0x00a582ff,76: 0xead6afff,77: 0xb29b70ff,81: 0xf2f2f2ff,82: 0x9b9b9bff,83: 0x4c70a3ff,87: 0x7fb2b2ff,88: 0xe8ffbfff,92: 0x00ffffff,111: 0x4c70a3ff,112: 0xd3e2f9ff,121: 0x9b9b9bff,122: 0x9b9b9bff,123: 0x9b9b9bff,124: 0x9b9b9bff,131: 0xccbfa3ff,141: 0x93cc93ff,142: 0x93cc93ff,143: 0x93cc93ff,152: 0xc6d69eff,176: 0xe8ffbfff,190: 0x7fb2b2ff,195: 0x7fb2b2ff,204: 0x00ff8cff,205: 0xd69ebcff,206: 0xff6666ff,207: 0xff6666ff,208: 0xff6666ff,209: 0xff6666ff,210: 0xff8eaaff,211: 0x334933ff,212: 0xe57026ff,213: 0xff6666ff,214: 0xff6666ff,216: 0xff6666ff,217: 0xb29b70ff,218: 0xff8eaaff,219: 0xff6666ff,220: 0xff8eaaff,221: 0xff6666ff,222: 0xff6666ff,223: 0xff8eaaff,224: 0x00af4cff,225: 0xffd300ff,226: 0xffd300ff,227: 0xff6666ff,229: 0xff6666ff,230: 0x896354ff,231: 0xff6666ff,232: 0xff2626ff,233: 0xe2007cff,234: 0xff9e0cff,235: 0xff9e0cff,236: 0xa57000ff,237: 0xffd300ff,238: 0xa57000ff,239: 0x267000ff,240: 0x267000ff,241: 0xffd300ff,242: 0x000099ff,243: 0xff6666ff,244: 0xff6666ff,245: 0xff6666ff,246: 0xff6666ff,247: 0xff6666ff,248: 0xff6666ff,249: 0xff6666ff,250: 0xff6666ff,251: 0xffd300ff,252: 0x267000ff,253: 0xa57000ff,254: 0x267000ff})\n",
    "\n",
    "# A map of CDL raster values to the category they represent.\n",
    "values_to_crops = {0: 'Background',1: 'Corn',2: 'Cotton',3: 'Rice',4: 'Sorghum',5: 'Soybeans',6: 'Sunflower',10: 'Peanuts',11: 'Tobacco',12: 'Sweet Corn',13: 'Pop or Orn Corn',14: 'Mint',21: 'Barley',22: 'Durum Wheat',23: 'Spring Wheat',24: 'Winter Wheat',25: 'Other Small Grains',26: 'Dbl Crop WinWht/Soybeans',27: 'Rye',28: 'Oats',29: 'Millet',30: 'Speltz',31: 'Canola',32: 'Flaxseed',33: 'Safflower',34: 'Rape Seed',35: 'Mustard',36: 'Alfalfa',37: 'Other Hay/Non Alfalfa',38: 'Camelina',39: 'Buckwheat',41: 'Sugarbeets',42: 'Dry Beans',43: 'Potatoes',44: 'Other Crops',45: 'Sugarcane',46: 'Sweet Potatoes',47: 'Misc Vegs & Fruits',48: 'Watermelons',49: 'Onions',50: 'Cucumbers',51: 'Chick Peas',52: 'Lentils',53: 'Peas',54: 'Tomatoes',55: 'Caneberries',56: 'Hops',57: 'Herbs',58: 'Clover/Wildflowers',59: 'Sod/Grass Seed',60: 'Switchgrass',61: 'Fallow/Idle Cropland',63: 'Forest',64: 'Shrubland',65: 'Barren',66: 'Cherries',67: 'Peaches',68: 'Apples',69: 'Grapes',70: 'Christmas Trees',71: 'Other Tree Crops',72: 'Citrus',74: 'Pecans',75: 'Almonds',76: 'Walnuts',77: 'Pears',81: 'Clouds/No Data',82: 'Developed',83: 'Water',87: 'Wetlands',88: 'Nonag/Undefined',92: 'Aquaculture',111: 'Open Water',112: 'Perennial Ice/Snow ',121: 'Developed/Open Space',122: 'Developed/Low Intensity',123: 'Developed/Med Intensity',124: 'Developed/High Intensity',131: 'Barren',141: 'Deciduous Forest',142: 'Evergreen Forest',143: 'Mixed Forest',152: 'Shrubland',176: 'Grassland/Pasture',190: 'Woody Wetlands',195: 'Herbaceous Wetlands',204: 'Pistachios',205: 'Triticale',206: 'Carrots',207: 'Asparagus',208: 'Garlic',209: 'Cantaloupes',210: 'Prunes',211: 'Olives',212: 'Oranges',213: 'Honeydew Melons',214: 'Broccoli',216: 'Peppers',217: 'Pomegranates',218: 'Nectarines',219: 'Greens',220: 'Plums',221: 'Strawberries',222: 'Squash',223: 'Apricots',224: 'Vetch',225: 'Dbl Crop WinWht/Corn',226: 'Dbl Crop Oats/Corn',227: 'Lettuce',229: 'Pumpkins',230: 'Dbl Crop Lettuce/Durum Wht',231: 'Dbl Crop Lettuce/Cantaloupe',232: 'Dbl Crop Lettuce/Cotton',233: 'Dbl Crop Lettuce/Barley',234: 'Dbl Crop Durum Wht/Sorghum',235: 'Dbl Crop Barley/Sorghum',236: 'Dbl Crop WinWht/Sorghum',237: 'Dbl Crop Barley/Corn',238: 'Dbl Crop WinWht/Cotton',239: 'Dbl Crop Soybeans/Cotton',240: 'Dbl Crop Soybeans/Oats',241: 'Dbl Crop Corn/Soybeans',242: 'Blueberries',243: 'Cabbage',244: 'Cauliflower',245: 'Celery',246: 'Radishes',247: 'Turnips',248: 'Eggplants',249: 'Gourds',250: 'Cranberries',254: 'Dbl Crop Barley/Soybeans'}\n",
    "\n",
    "# A reverse map of above, allowing you to lookup CDL values from category name.\n",
    "crops_to_values = {v: k for k, v in values_to_crops.items()}\n",
    "\n",
    "# List of crop category names which are relevant to objective 3.\n",
    "crops = ['Corn','Cotton','Rice','Sorghum','Soybeans','Sunflower','Peanuts','Tobacco','Sweet Corn','Pop or Orn Corn','Mint','Barley','Durum Wheat','Spring Wheat','Winter Wheat','Other Small Grains','Rye','Oats','Millet','Speltz','Canola','Flaxseed','Safflower','Rape Seed','Mustard','Alfalfa','Other Hay/Non Alfalfa','Camelina','Buckwheat','Sugarbeets','Dry Beans','Potatoes','Other Crops','Sugarcane','Sweet Potatoes','Misc Vegs & Fruits','Watermelons','Onions','Cucumbers','Chick Peas','Lentils','Peas','Tomatoes','Caneberries','Hops','Herbs','Clover/Wildflowers','Cherries','Peaches','Apples','Grapes','Pecans','Almonds','Walnuts','Pears','Pistachios','Triticale','Carrots','Asparagus','Garlic','Cantaloupes','Prunes','Olives','Oranges','Honeydew Melons','Broccoli','Peppers','Pomegranates','Nectarines','Greens','Plums','Strawberries','Squash','Apricots','Vetch','Lettuce','Pumpkins','Blueberries','Cabbage','Cauliflower','Celery','Radishes','Turnips','Eggplants','Gourds','Cranberries']"
   ]
  },
  {
   "cell_type": "markdown",
   "metadata": {},
   "source": [
    "## Object 1:  View the entire CDL layer on the map.\n",
    "\n",
    "Build a TMS server from the catalog at `s3://datahub-catalogs-us-east-1` and the layer with name `cdl_layer_name`, and use the `cdl_colormap` declared above.\n",
    "\n",
    "Center the map on your state."
   ]
  },
  {
   "cell_type": "code",
   "execution_count": null,
   "metadata": {
    "collapsed": true
   },
   "outputs": [],
   "source": [
    "tms_server = gps.TMS.build((\"s3://datahub-catalogs-us-east-1\", cdl_layer_name), \n",
    "                           display=cdl_colormap)\n",
    "M.add_layer(TMSRasterData(tms_server), name=\"cdl\")"
   ]
  },
  {
   "cell_type": "code",
   "execution_count": null,
   "metadata": {
    "collapsed": true
   },
   "outputs": [],
   "source": [
    "p = state_ll.centroid\n",
    "M.set_center(p.x, p.y, 7)"
   ]
  },
  {
   "cell_type": "markdown",
   "metadata": {},
   "source": [
    "## Objective 2: View CDL, cropped to your state polygon, on the map.\n",
    "\n",
    "Query the catalog for the `cdl_layer_name` layer at zoom 13 for tiles intersecting your state. (Hint: make sure to use the correct projection for the `query_geom`!).\n",
    "\n",
    "Mask the layer by the query geometry, and view the resulting layer on the map."
   ]
  },
  {
   "cell_type": "code",
   "execution_count": 5,
   "metadata": {
    "collapsed": true
   },
   "outputs": [],
   "source": [
    "layer = gps.query(\"s3://datahub-catalogs-us-east-1/\", \n",
    "                  cdl_layer_name,\n",
    "                  layer_zoom=13,\n",
    "                  query_geom=state_wm,\n",
    "                  num_partitions=100)"
   ]
  },
  {
   "cell_type": "code",
   "execution_count": 6,
   "metadata": {
    "collapsed": true
   },
   "outputs": [],
   "source": [
    "masked = layer.mask(geometries=state_wm)\n",
    "pyramid = masked.repartition(100).cache().pyramid()"
   ]
  },
  {
   "cell_type": "code",
   "execution_count": null,
   "metadata": {
    "collapsed": true
   },
   "outputs": [],
   "source": [
    "for l in M.layers:\n",
    "    M.remove_layer(l)"
   ]
  },
  {
   "cell_type": "code",
   "execution_count": null,
   "metadata": {
    "collapsed": true
   },
   "outputs": [],
   "source": [
    "tms_server = gps.TMS.build(pyramid, \n",
    "                           display=cdl_colormap)\n",
    "M.add_layer(TMSRasterData(tms_server), name=\"cdl\")"
   ]
  },
  {
   "cell_type": "markdown",
   "metadata": {},
   "source": [
    "## Objective 3: Determine the 3 most popular crops that were grown in your state in 2016, according to the CDL.\n",
    "\n",
    "Count the number of cells per crop value for your state. \n",
    "Create a bar graph of the counts per crop to see the most\n",
    "popular crops in your state."
   ]
  },
  {
   "cell_type": "code",
   "execution_count": 7,
   "metadata": {
    "collapsed": true
   },
   "outputs": [],
   "source": [
    "rdd = masked.to_numpy_rdd()"
   ]
  },
  {
   "cell_type": "code",
   "execution_count": 8,
   "metadata": {},
   "outputs": [
    {
     "data": {
      "text/plain": [
       "{36: 5741, 37: 8631}"
      ]
     },
     "execution_count": 8,
     "metadata": {},
     "output_type": "execute_result"
    }
   ],
   "source": [
    "crop_values = map(lambda c: crops_to_values[c], crops)\n",
    "def get_counts(tile):\n",
    "    values, counts = np.unique(tile.cells.flatten(), return_counts=True)\n",
    "    d = {}\n",
    "    \n",
    "    for v, c in zip(values, counts):\n",
    "        if v in crop_values:\n",
    "            d[v] = c\n",
    "    return d\n",
    "\n",
    "def merge_counts(d1, d2):\n",
    "    d = {}\n",
    "    for k in set(d1.keys()).union(set(d2.keys())):\n",
    "        v = 0\n",
    "        if k in d1:\n",
    "            v += d1[k]\n",
    "        if k in d2:\n",
    "            v += d2[k]\n",
    "        d[k] = v\n",
    "    return d\n",
    "\n",
    "counts = rdd.map(lambda x: get_counts(x[1])).reduce(merge_counts)\n",
    "counts"
   ]
  },
  {
   "cell_type": "code",
   "execution_count": 9,
   "metadata": {},
   "outputs": [
    {
     "data": {
      "text/html": [
       "<div>\n",
       "<table border=\"1\" class=\"dataframe\">\n",
       "  <thead>\n",
       "    <tr style=\"text-align: right;\">\n",
       "      <th></th>\n",
       "      <th>0</th>\n",
       "    </tr>\n",
       "  </thead>\n",
       "  <tbody>\n",
       "    <tr>\n",
       "      <th>Alfalfa</th>\n",
       "      <td>5741</td>\n",
       "    </tr>\n",
       "    <tr>\n",
       "      <th>Other Hay/Non Alfalfa</th>\n",
       "      <td>8631</td>\n",
       "    </tr>\n",
       "  </tbody>\n",
       "</table>\n",
       "</div>"
      ],
      "text/plain": [
       "                          0\n",
       "Alfalfa                5741\n",
       "Other Hay/Non Alfalfa  8631"
      ]
     },
     "execution_count": 9,
     "metadata": {},
     "output_type": "execute_result"
    }
   ],
   "source": [
    "named_counts = {}\n",
    "for k in counts:\n",
    "    named_counts[values_to_crops[k]] = counts[k]\n",
    "\n",
    "df = pd.DataFrame.from_dict(named_counts,  orient='index')\n",
    "df"
   ]
  },
  {
   "cell_type": "code",
   "execution_count": 10,
   "metadata": {},
   "outputs": [
    {
     "data": {
      "text/plain": [
       "<matplotlib.figure.Figure at 0x7f0bb6d83d30>"
      ]
     },
     "metadata": {},
     "output_type": "display_data"
    },
    {
     "data": {
      "image/png": "[encoded data removed]",
      "text/plain": [
       "<matplotlib.figure.Figure at 0x7f0bb7082588>"
      ]
     },
     "metadata": {},
     "output_type": "display_data"
    }
   ],
   "source": [
    "plt.figure()\n",
    "df.plot.bar(legend=False)\n",
    "plt.show()"
   ]
  },
  {
   "cell_type": "markdown",
   "metadata": {},
   "source": [
    "## Objective 4: View a specific crop on the map.\n",
    "\n",
    "Choose a crop from the above graph that has a high value. Use a color ramp that\n",
    "highlights your chosen crop in red, and hides all other crops. Then search\n",
    "for dense areas of your crop."
   ]
  },
  {
   "cell_type": "code",
   "execution_count": null,
   "metadata": {
    "collapsed": true
   },
   "outputs": [],
   "source": [
    "target_crop = 'Barley'\n",
    "\n",
    "crop_colormap = \\\n",
    "    gps.ColorMap.build(breaks={ crops_to_values[target_crop]: 0x00FF00FF },\n",
    "                                classification_strategy=gps.ClassificationStrategy.EXACT,\n",
    "                                fallback=0x00000000)    \n",
    "\n",
    "tms_server = gps.TMS.build(pyramid, \n",
    "                           display=crop_colormap)\n",
    "    \n",
    "for l in M.layers:\n",
    "    M.remove_layer(l)\n",
    "\n",
    "M.add_layer(TMSRasterData(tms_server), name=\"cdl\")"
   ]
  },
  {
   "cell_type": "markdown",
   "metadata": {},
   "source": [
    "## Extra credit: View a specific crop on the map, using numpy to filter values.\n",
    "\n",
    "Accomplish the same thing as Object 4. Instead of using a ColorMap to accomplish this, use map_tiles to map over the tiles of layer and set all values that don't match the crop value to tile.no_data_value. Then paint the resulting layer on the map."
   ]
  },
  {
   "cell_type": "code",
   "execution_count": null,
   "metadata": {
    "collapsed": true
   },
   "outputs": [],
   "source": [
    "target_crop = 'Barley'\n",
    "\n",
    "def mask_tile(tile):\n",
    "    no_data_value = tile.no_data_value\n",
    "    cells = tile.cells\n",
    "    cells[cells != crops_to_values[target_crop]] = no_data_value\n",
    "    return gps.Tile.from_numpy_array(cells, no_data_value=no_data_value)\n",
    "\n",
    "crop_rdd = layer.map_tiles(mask_tile).repartition(100).cache()"
   ]
  },
  {
   "cell_type": "code",
   "execution_count": null,
   "metadata": {
    "collapsed": true
   },
   "outputs": [],
   "source": [
    "pyramid = crop_rdd.pyramid()"
   ]
  },
  {
   "cell_type": "code",
   "execution_count": null,
   "metadata": {
    "collapsed": true
   },
   "outputs": [],
   "source": [
    "for l in M.layers:\n",
    "    M.remove_layer(l)\n",
    "    \n",
    "tms_server = gps.TMS.build(pyramid, \n",
    "                           display=cdl_colormap)\n",
    "M.add_layer(TMSRasterData(tms_server), name=\"cdl\")"
   ]
  },
  {
   "cell_type": "markdown",
   "metadata": {},
   "source": [
    "## Reference: CDL values and crop names\n",
    "\n",
    "Below is an expanded dictionary of values to CDL categories, \n",
    "as well as a list of crop names (with non-crop categories removed)."
   ]
  },
  {
   "cell_type": "code",
   "execution_count": null,
   "metadata": {
    "collapsed": true
   },
   "outputs": [],
   "source": [
    "values_to_crops = {0: 'Background',\n",
    "                   1: 'Corn',\n",
    "                   2: 'Cotton',\n",
    "                   3: 'Rice',\n",
    "                   4: 'Sorghum',\n",
    "                   5: 'Soybeans',\n",
    "                   6: 'Sunflower',\n",
    "                   10: 'Peanuts',\n",
    "                   11: 'Tobacco',\n",
    "                   12: 'Sweet Corn',\n",
    "                   13: 'Pop or Orn Corn',\n",
    "                   14: 'Mint',\n",
    "                   21: 'Barley',\n",
    "                   22: 'Durum Wheat',\n",
    "                   23: 'Spring Wheat',\n",
    "                   24: 'Winter Wheat',\n",
    "                   25: 'Other Small Grains',\n",
    "                   26: 'Dbl Crop WinWht/Soybeans',\n",
    "                   27: 'Rye',\n",
    "                   28: 'Oats',\n",
    "                   29: 'Millet',\n",
    "                   30: 'Speltz',\n",
    "                   31: 'Canola',\n",
    "                   32: 'Flaxseed',\n",
    "                   33: 'Safflower',\n",
    "                   34: 'Rape Seed',\n",
    "                   35: 'Mustard',\n",
    "                   36: 'Alfalfa',\n",
    "                   37: 'Other Hay/Non Alfalfa',\n",
    "                   38: 'Camelina',\n",
    "                   39: 'Buckwheat',\n",
    "                   41: 'Sugarbeets',\n",
    "                   42: 'Dry Beans',\n",
    "                   43: 'Potatoes',\n",
    "                   44: 'Other Crops',\n",
    "                   45: 'Sugarcane',\n",
    "                   46: 'Sweet Potatoes',\n",
    "                   47: 'Misc Vegs & Fruits',\n",
    "                   48: 'Watermelons',\n",
    "                   49: 'Onions',\n",
    "                   50: 'Cucumbers',\n",
    "                   51: 'Chick Peas',\n",
    "                   52: 'Lentils',\n",
    "                   53: 'Peas',\n",
    "                   54: 'Tomatoes',\n",
    "                   55: 'Caneberries',\n",
    "                   56: 'Hops',\n",
    "                   57: 'Herbs',\n",
    "                   58: 'Clover/Wildflowers',\n",
    "                   59: 'Sod/Grass Seed',\n",
    "                   60: 'Switchgrass',\n",
    "                   61: 'Fallow/Idle Cropland',\n",
    "                   63: 'Forest',\n",
    "                   64: 'Shrubland',\n",
    "                   65: 'Barren',\n",
    "                   66: 'Cherries',\n",
    "                   67: 'Peaches',\n",
    "                   68: 'Apples',\n",
    "                   69: 'Grapes',\n",
    "                   70: 'Christmas Trees',\n",
    "                   71: 'Other Tree Crops',\n",
    "                   72: 'Citrus',\n",
    "                   74: 'Pecans',\n",
    "                   75: 'Almonds',\n",
    "                   76: 'Walnuts',\n",
    "                   77: 'Pears',\n",
    "                   81: 'Clouds/No Data',\n",
    "                   82: 'Developed',\n",
    "                   83: 'Water',\n",
    "                   87: 'Wetlands',\n",
    "                   88: 'Nonag/Undefined',\n",
    "                   92: 'Aquaculture',\n",
    "                   111: 'Open Water',\n",
    "                   112: 'Perennial Ice/Snow ',\n",
    "                   121: 'Developed/Open Space',\n",
    "                   122: 'Developed/Low Intensity',\n",
    "                   123: 'Developed/Med Intensity',\n",
    "                   124: 'Developed/High Intensity',\n",
    "                   131: 'Barren',\n",
    "                   141: 'Deciduous Forest',\n",
    "                   142: 'Evergreen Forest',\n",
    "                   143: 'Mixed Forest',\n",
    "                   152: 'Shrubland',\n",
    "                   176: 'Grassland/Pasture',\n",
    "                   190: 'Woody Wetlands',\n",
    "                   195: 'Herbaceous Wetlands',\n",
    "                   204: 'Pistachios',\n",
    "                   205: 'Triticale',\n",
    "                   206: 'Carrots',\n",
    "                   207: 'Asparagus',\n",
    "                   208: 'Garlic',\n",
    "                   209: 'Cantaloupes',\n",
    "                   210: 'Prunes',\n",
    "                   211: 'Olives',\n",
    "                   212: 'Oranges',\n",
    "                   213: 'Honeydew Melons',\n",
    "                   214: 'Broccoli',\n",
    "                   216: 'Peppers',\n",
    "                   217: 'Pomegranates',\n",
    "                   218: 'Nectarines',\n",
    "                   219: 'Greens',\n",
    "                   220: 'Plums',\n",
    "                   221: 'Strawberries',\n",
    "                   222: 'Squash',\n",
    "                   223: 'Apricots',\n",
    "                   224: 'Vetch',\n",
    "                   225: 'Dbl Crop WinWht/Corn',\n",
    "                   226: 'Dbl Crop Oats/Corn',\n",
    "                   227: 'Lettuce',\n",
    "                   229: 'Pumpkins',\n",
    "                   230: 'Dbl Crop Lettuce/Durum Wht',\n",
    "                   231: 'Dbl Crop Lettuce/Cantaloupe',\n",
    "                   232: 'Dbl Crop Lettuce/Cotton',\n",
    "                   233: 'Dbl Crop Lettuce/Barley',\n",
    "                   234: 'Dbl Crop Durum Wht/Sorghum',\n",
    "                   235: 'Dbl Crop Barley/Sorghum',\n",
    "                   236: 'Dbl Crop WinWht/Sorghum',\n",
    "                   237: 'Dbl Crop Barley/Corn',\n",
    "                   238: 'Dbl Crop WinWht/Cotton',\n",
    "                   239: 'Dbl Crop Soybeans/Cotton',\n",
    "                   240: 'Dbl Crop Soybeans/Oats',\n",
    "                   241: 'Dbl Crop Corn/Soybeans',\n",
    "                   242: 'Blueberries',\n",
    "                   243: 'Cabbage',\n",
    "                   244: 'Cauliflower',\n",
    "                   245: 'Celery',\n",
    "                   246: 'Radishes',\n",
    "                   247: 'Turnips',\n",
    "                   248: 'Eggplants',\n",
    "                   249: 'Gourds',\n",
    "                   250: 'Cranberries',\n",
    "                   254: 'Dbl Crop Barley/Soybeans'}"
   ]
  },
  {
   "cell_type": "code",
   "execution_count": null,
   "metadata": {
    "collapsed": true
   },
   "outputs": [],
   "source": [
    "crops = ['Corn',\n",
    "         'Cotton',\n",
    "         'Rice',\n",
    "         'Sorghum',\n",
    "         'Soybeans',\n",
    "         'Sunflower',\n",
    "         'Peanuts',\n",
    "         'Tobacco',\n",
    "         'Sweet Corn',\n",
    "         'Pop or Orn Corn',\n",
    "         'Mint',\n",
    "         'Barley',\n",
    "         'Durum Wheat',\n",
    "         'Spring Wheat',\n",
    "         'Winter Wheat',\n",
    "         'Other Small Grains',\n",
    "         'Rye',\n",
    "         'Oats',\n",
    "         'Millet',\n",
    "         'Speltz',\n",
    "         'Canola',\n",
    "         'Flaxseed',\n",
    "         'Safflower',\n",
    "         'Rape Seed',\n",
    "         'Mustard',\n",
    "         'Alfalfa',\n",
    "         'Other Hay/Non Alfalfa',\n",
    "         'Camelina',\n",
    "         'Buckwheat',\n",
    "         'Sugarbeets',\n",
    "         'Dry Beans',\n",
    "         'Potatoes',\n",
    "         'Other Crops',\n",
    "         'Sugarcane',\n",
    "         'Sweet Potatoes',\n",
    "         'Misc Vegs & Fruits',\n",
    "         'Watermelons',\n",
    "         'Onions',\n",
    "         'Cucumbers',\n",
    "         'Chick Peas',\n",
    "         'Lentils',\n",
    "         'Peas',\n",
    "         'Tomatoes',\n",
    "         'Caneberries',\n",
    "         'Hops',\n",
    "         'Herbs',\n",
    "         'Clover/Wildflowers',\n",
    "         'Cherries',\n",
    "         'Peaches',\n",
    "         'Apples',\n",
    "         'Grapes',\n",
    "         'Pecans',\n",
    "         'Almonds',\n",
    "         'Walnuts',\n",
    "         'Pears',\n",
    "         'Pistachios',\n",
    "         'Triticale',\n",
    "         'Carrots',\n",
    "         'Asparagus',\n",
    "         'Garlic',\n",
    "         'Cantaloupes',\n",
    "         'Prunes',\n",
    "         'Olives',\n",
    "         'Oranges',\n",
    "         'Honeydew Melons',\n",
    "         'Broccoli',\n",
    "         'Peppers',\n",
    "         'Pomegranates',\n",
    "         'Nectarines',\n",
    "         'Greens',\n",
    "         'Plums',\n",
    "         'Strawberries',\n",
    "         'Squash',\n",
    "         'Apricots',\n",
    "         'Vetch',\n",
    "         'Lettuce',\n",
    "         'Pumpkins',\n",
    "         'Blueberries',\n",
    "         'Cabbage',\n",
    "         'Cauliflower',\n",
    "         'Celery',\n",
    "         'Radishes',\n",
    "         'Turnips',\n",
    "         'Eggplants',\n",
    "         'Gourds',\n",
    "         'Cranberries']"
   ]
  }
 ],
 "metadata": {
  "kernelspec": {
   "display_name": "GeoNotebook + GeoPySpark",
   "language": "python",
   "name": "geonotebook3"
  },
  "language_info": {
   "codemirror_mode": {
    "name": "ipython",
    "version": 3
   },
   "file_extension": ".py",
   "mimetype": "text/x-python",
   "name": "python",
   "nbconvert_exporter": "python",
   "pygments_lexer": "ipython3",
   "version": "3.4.5"
  }
 },
 "nbformat": 4,
 "nbformat_minor": 2
}
